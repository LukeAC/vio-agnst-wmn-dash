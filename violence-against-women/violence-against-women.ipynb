{
 "cells": [
  {
   "cell_type": "markdown",
   "id": "8cee0caf-ad34-4326-952b-c4cad91a01bf",
   "metadata": {},
   "source": [
    "# Exploratory Analysis of Violence Against Women and Girls (VAWG) Dataset\n",
    "In this notebook I provide a basic quantitative and semantic analysis of the Violence Against Women and Girls dataset, as well as support these analyses with some simple data visualization."
   ]
  },
  {
   "cell_type": "markdown",
   "id": "63acf47b-63e1-42fd-9c91-f9c268040703",
   "metadata": {},
   "source": [
    "___\n",
    "## Introduction\n",
    "\n",
    "### About the dataset\n",
    "- Collected as part of the [Demographic and Health Surveys](https://dhsprogram.com/methodology/Survey-Types/DHS.cfm) (DHS) program.\n",
    "\n",
    "### What is in this dataset?\n",
    "| Column Name | Description | dtype |\n",
    "|---|---|---|\n",
    "|RecordID|---|---|\n",
    "|Country|---|---|\n",
    "|Gender|---|---|\n",
    "|Demographics Question|---|---|\n",
    "|Demographics Response|---|---|\n",
    "|Question|---|---|\n",
    "|Survey Year|---|---|\n",
    "|Value|---|---|"
   ]
  },
  {
   "cell_type": "markdown",
   "id": "6c9cffec-e028-410a-83c7-87dae80a0a10",
   "metadata": {},
   "source": [
    "___\n",
    "### Loading the dataset and analysis of raw data"
   ]
  },
  {
   "cell_type": "code",
   "execution_count": 1,
   "id": "3c6a663a-4600-40c3-83db-9bce86efd3e5",
   "metadata": {},
   "outputs": [],
   "source": [
    "import altair as alt\n",
    "import pandas as pd\n",
    "import numpy as np"
   ]
  },
  {
   "cell_type": "code",
   "execution_count": 2,
   "id": "c73910fb-3939-4eec-8b11-6ca89d7f4f38",
   "metadata": {},
   "outputs": [
    {
     "name": "stdout",
     "output_type": "stream",
     "text": [
      "<class 'pandas.core.frame.DataFrame'>\n",
      "RangeIndex: 12600 entries, 0 to 12599\n",
      "Data columns (total 8 columns):\n",
      " #   Column                 Non-Null Count  Dtype  \n",
      "---  ------                 --------------  -----  \n",
      " 0   RecordID               12600 non-null  int64  \n",
      " 1   Country                12600 non-null  object \n",
      " 2   Gender                 12600 non-null  object \n",
      " 3   Demographics Question  12600 non-null  object \n",
      " 4   Demographics Response  12600 non-null  object \n",
      " 5   Question               12600 non-null  object \n",
      " 6   Survey Year            12600 non-null  object \n",
      " 7   Value                  11187 non-null  float64\n",
      "dtypes: float64(1), int64(1), object(6)\n",
      "memory usage: 787.6+ KB\n"
     ]
    },
    {
     "data": {
      "text/html": [
       "<div>\n",
       "<style scoped>\n",
       "    .dataframe tbody tr th:only-of-type {\n",
       "        vertical-align: middle;\n",
       "    }\n",
       "\n",
       "    .dataframe tbody tr th {\n",
       "        vertical-align: top;\n",
       "    }\n",
       "\n",
       "    .dataframe thead th {\n",
       "        text-align: right;\n",
       "    }\n",
       "</style>\n",
       "<table border=\"1\" class=\"dataframe\">\n",
       "  <thead>\n",
       "    <tr style=\"text-align: right;\">\n",
       "      <th></th>\n",
       "      <th>Country</th>\n",
       "      <th>Gender</th>\n",
       "      <th>Demographics Question</th>\n",
       "      <th>Demographics Response</th>\n",
       "      <th>Question</th>\n",
       "      <th>Survey Year</th>\n",
       "    </tr>\n",
       "  </thead>\n",
       "  <tbody>\n",
       "    <tr>\n",
       "      <th>count</th>\n",
       "      <td>12600</td>\n",
       "      <td>12600</td>\n",
       "      <td>12600</td>\n",
       "      <td>12600</td>\n",
       "      <td>12600</td>\n",
       "      <td>12600</td>\n",
       "    </tr>\n",
       "    <tr>\n",
       "      <th>unique</th>\n",
       "      <td>70</td>\n",
       "      <td>2</td>\n",
       "      <td>5</td>\n",
       "      <td>15</td>\n",
       "      <td>6</td>\n",
       "      <td>18</td>\n",
       "    </tr>\n",
       "    <tr>\n",
       "      <th>top</th>\n",
       "      <td>Afghanistan</td>\n",
       "      <td>F</td>\n",
       "      <td>Education</td>\n",
       "      <td>Never married</td>\n",
       "      <td>... if she burns the food</td>\n",
       "      <td>01/01/2013</td>\n",
       "    </tr>\n",
       "    <tr>\n",
       "      <th>freq</th>\n",
       "      <td>180</td>\n",
       "      <td>6300</td>\n",
       "      <td>3360</td>\n",
       "      <td>840</td>\n",
       "      <td>2100</td>\n",
       "      <td>1980</td>\n",
       "    </tr>\n",
       "  </tbody>\n",
       "</table>\n",
       "</div>"
      ],
      "text/plain": [
       "            Country Gender Demographics Question Demographics Response  \\\n",
       "count         12600  12600                 12600                 12600   \n",
       "unique           70      2                     5                    15   \n",
       "top     Afghanistan      F             Education         Never married   \n",
       "freq            180   6300                  3360                   840   \n",
       "\n",
       "                         Question Survey Year  \n",
       "count                       12600       12600  \n",
       "unique                          6          18  \n",
       "top     ... if she burns the food  01/01/2013  \n",
       "freq                         2100        1980  "
      ]
     },
     "execution_count": 2,
     "metadata": {},
     "output_type": "execute_result"
    }
   ],
   "source": [
    "raw_data = pd.read_csv('data/violence_data.csv')\n",
    "\n",
    "raw_data.info()\n",
    "raw_data.describe(include='object')"
   ]
  },
  {
   "cell_type": "code",
   "execution_count": null,
   "id": "f2f1509c-a31a-4547-9ad6-ac02d7dbcd56",
   "metadata": {},
   "outputs": [],
   "source": []
  }
 ],
 "metadata": {
  "kernelspec": {
   "display_name": "Python [conda env:531]",
   "language": "python",
   "name": "conda-env-531-py"
  },
  "language_info": {
   "codemirror_mode": {
    "name": "ipython",
    "version": 3
   },
   "file_extension": ".py",
   "mimetype": "text/x-python",
   "name": "python",
   "nbconvert_exporter": "python",
   "pygments_lexer": "ipython3",
   "version": "3.9.7"
  }
 },
 "nbformat": 4,
 "nbformat_minor": 5
}
