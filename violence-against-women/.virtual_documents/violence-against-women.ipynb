import matplotlib.pyplot as plt
import altair as alt
import pandas as pd
import numpy as np
from IPython.display import display
from geopy.geocoders import Nominatim
from pycountry_convert import country_alpha2_to_continent_code, country_name_to_country_alpha2

geolocator = Nominatim(user_agent="violence_against_women")
alt.data_transformers.disable_max_rows()


# load in the data and take a look at categorical data

raw_data = pd.read_csv('data/violence_data.csv')
raw_data.describe(include='object')


# Let's take a look at the countries which have been surveyed

relabeled_countries = raw_data.Country.drop_duplicates().replace(
    {'Congo Democratic Republic': 'Democratic Republic of the Congo',
     "Cote d'Ivoire": "Ivory Coast",
     "Timor-Leste": "East Timor"}
).reset_index().Country

country_codes = pd.Series(map(country_name_to_country_alpha2, relabeled_countries))
country_codes = country_codes.replace('TL', 'TP')

continent_codes = pd.Series(map(country_alpha2_to_continent_code, country_codes))

location_data = pd.Series(map(geolocator.geocode, country_codes))
print(location_data)

country_data = pd.DataFrame({"country_name": relabeled_countries,
                             "country_code": country_codes,
                             "continent_code": continent_codes})


# for each year this survey has been conducted, let's
# take a look at the total number of surveys conducted,
# and the total number of countries in which the survey
# was conducted

# We'll also check that distribution of participant gender makes sense


year_selector = alt.selection_multi(empty='all', fields=['Survey Year'])
country_selector = alt.selection_single(empty='all', fields=['Country'])

base_chart = alt.Chart(raw_data).add_selection(year_selector, country_selector)

country_count = base_chart.mark_bar().encode(
    y='Survey Year',
    x={"aggregate": "distinct",
       "field": "Country",
       "type": "quantitative"},
    tooltip=['Survey Year',
             'count(RecordID)',
             #{"aggregate": "distinct",
             # "field": "Country",
             # "type": "quantitative"}
            ],
    color=alt.condition(year_selector, alt.value('#1f77b4'), alt.value('lightgray'), legend=None)
).properties(
    width = 300,
    height = 500
)

countries_surveyed = base_chart.mark_bar().encode(
    y='Country',
    x='count(RecordID)',
    color='Gender',
    tooltip=['Country', 'Survey Year']
).transform_filter(
    year_selector
).properties(
    width = 300,
    height = 500
)

country_count | countries_surveyed


print(raw_data.loc[:, ['Demographics Question',
                 'Demographics Response']
            ].drop_duplicates().sort_values('Demographics Question'))

alt.Chart(raw_data.sort_values('Demographics Question')).mark_bar().encode(
    alt.X('count(RecordID)'),
    alt.Y('Demographics Response',
          sort=alt.EncodingSortField(field="Demographics Question")),
    color="Gender",
    tooltip=["Demographics Question", "Demographics Response", "Gender", "count(RecordID)"],
).properties(width=100, height=160).facet("Country", columns=2).resolve_scale(y='independent',
                                                                               x='independent')



